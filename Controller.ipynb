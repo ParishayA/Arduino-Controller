{
 "cells": [
  {
   "cell_type": "code",
   "execution_count": 11,
   "id": "f2c185da",
   "metadata": {},
   "outputs": [],
   "source": [
    "import pyfirmata\n",
    "\n",
    "comport = 'COM4'\n",
    "board = pyfirmata.Arduino(comport)\n",
    "\n",
    "led1 = board.get_pin('d:2:o')\n",
    "led2 = board.get_pin('d:3:o')\n",
    "led3 = board.get_pin('d:4:o')\n",
    "led4 = board.get_pin('d:5:o')\n",
    "led5 = board.get_pin('d:6:o')\n",
    "\n",
    "def led(total):\n",
    "    if total == 0:\n",
    "        led1.write(0)\n",
    "        led2.write(0)\n",
    "        led3.write(0)\n",
    "        led4.write(0)\n",
    "        led5.write(0)\n",
    "    elif total == 1:\n",
    "        led1.write(1)\n",
    "        led2.write(0)\n",
    "        led3.write(0)\n",
    "        led4.write(0)\n",
    "        led5.write(0)\n",
    "    elif total == 2:\n",
    "        led1.write(1)\n",
    "        led2.write(1)\n",
    "        led3.write(0)\n",
    "        led4.write(0)\n",
    "        led5.write(0)\n",
    "    elif total == 3:\n",
    "        led1.write(1)\n",
    "        led2.write(1)\n",
    "        led3.write(1)\n",
    "        led4.write(0)\n",
    "        led5.write(0)\n",
    "    elif total == 4:\n",
    "        led1.write(1)\n",
    "        led2.write(1)\n",
    "        led3.write(1)\n",
    "        led4.write(1)\n",
    "        led5.write(0)\n",
    "    elif total == 5:\n",
    "        led1.write(1)\n",
    "        led2.write(1)\n",
    "        led3.write(1)\n",
    "        led4.write(1)\n",
    "        led5.write(1)"
   ]
  },
  {
   "cell_type": "code",
   "execution_count": null,
   "id": "d65dda24",
   "metadata": {},
   "outputs": [],
   "source": []
  }
 ],
 "metadata": {
  "kernelspec": {
   "display_name": "Python 3 (ipykernel)",
   "language": "python",
   "name": "python3"
  },
  "language_info": {
   "codemirror_mode": {
    "name": "ipython",
    "version": 3
   },
   "file_extension": ".py",
   "mimetype": "text/x-python",
   "name": "python",
   "nbconvert_exporter": "python",
   "pygments_lexer": "ipython3",
   "version": "3.8.7"
  }
 },
 "nbformat": 4,
 "nbformat_minor": 5
}
